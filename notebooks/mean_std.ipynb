{
 "cells": [
  {
   "cell_type": "code",
   "execution_count": null,
   "metadata": {},
   "outputs": [],
   "source": []
  },
  {
   "cell_type": "code",
   "execution_count": 1,
   "metadata": {},
   "outputs": [],
   "source": [
    "import sys\n",
    "sys.path.insert(0, \"../code\")"
   ]
  },
  {
   "cell_type": "code",
   "execution_count": 2,
   "metadata": {},
   "outputs": [],
   "source": [
    "import tqdm\n",
    "import torch\n",
    "from torch.utils.data.sampler import WeightedRandomSampler\n",
    "from torch.utils.data import DataLoader, Sampler\n",
    "from torch.utils.data.dataset import Dataset, Subset\n",
    "import torch.utils.data.distributed as data_dist\n",
    "\n",
    "from dataflow.transforms import TransformedDataset\n",
    "from dataflow.datasets import get_trainval_datasets, read_img_in_db_with_mask"
   ]
  },
  {
   "cell_type": "code",
   "execution_count": 3,
   "metadata": {},
   "outputs": [],
   "source": [
    "INPUT_PATH = \"../input/\""
   ]
  },
  {
   "cell_type": "code",
   "execution_count": 4,
   "metadata": {},
   "outputs": [],
   "source": [
    "import os\n",
    "\n",
    "data_path = os.path.join(INPUT_PATH, \"train_tiles\")\n",
    "csv_path = os.path.join(data_path, \"tile_stats.csv\")\n",
    "\n",
    "train_folds = [0, 1, 3]\n",
    "val_folds = [2, ]\n",
    "\n",
    "train_ds, val_ds = get_trainval_datasets(data_path, csv_path, train_folds=train_folds, val_folds=val_folds, read_img_mask_fn=read_img_in_db_with_mask)\n"
   ]
  },
  {
   "cell_type": "code",
   "execution_count": 5,
   "metadata": {},
   "outputs": [],
   "source": [
    "from ignite.engine import Engine\n",
    "from ignite.metrics import VariableAccumulation, Average\n",
    "from ignite.contrib.handlers import ProgressBar\n",
    "\n",
    "\n",
    "class _Average(Average):\n",
    "    \n",
    "     def __init__(self, output_transform=lambda x: x, device=None):\n",
    "        \n",
    "        super(_Average, self).__init__(output_transform=output_transform, device=device)\n",
    "        \n",
    "        def _mean_op(a, x):\n",
    "\n",
    "            if x.ndim > 1:\n",
    "                x = x.sum(dim=0)\n",
    "            \n",
    "            return a + x\n",
    "    \n",
    "        self._op = _mean_op\n"
   ]
  },
  {
   "cell_type": "code",
   "execution_count": 6,
   "metadata": {},
   "outputs": [],
   "source": [
    "from albumentations.pytorch import ToTensorV2\n",
    "\n",
    "\n",
    "train_ds = TransformedDataset(train_ds, transform_fn=ToTensorV2())\n",
    "train_loader = DataLoader(train_ds, shuffle=False, drop_last=False,\n",
    "                          batch_size=16, num_workers=10, pin_memory=False)\n"
   ]
  },
  {
   "cell_type": "code",
   "execution_count": 9,
   "metadata": {},
   "outputs": [],
   "source": [
    "def compute_mean_std(engine, batch):\n",
    "    b, c, *_ = batch['image'].shape\n",
    "    data = batch['image'].reshape(b, c, -1).to(dtype=torch.float64)\n",
    "    \n",
    "    mean = torch.mean(data, dim=-1)\n",
    "    mean2 = torch.mean(data ** 2, dim=-1)\n",
    "    \n",
    "    return {\n",
    "        \"mean\": mean,\n",
    "        \"mean^2\": mean2,\n",
    "    }\n",
    "\n",
    "\n",
    "compute_engine = Engine(compute_mean_std)\n",
    "\n",
    "ProgressBar(desc=\"Compute Mean/Std\").attach(compute_engine)\n",
    "\n",
    "img_mean = _Average(output_transform=lambda output: output['mean'])\n",
    "img_mean2 = _Average(output_transform=lambda output: output['mean^2'])\n",
    "\n",
    "img_mean.attach(compute_engine, 'mean')\n",
    "img_mean2.attach(compute_engine, 'mean2')"
   ]
  },
  {
   "cell_type": "code",
   "execution_count": 10,
   "metadata": {},
   "outputs": [
    {
     "data": {
      "application/vnd.jupyter.widget-view+json": {
       "model_id": "",
       "version_major": 2,
       "version_minor": 0
      },
      "text/plain": [
       "HBox(children=(IntProgress(value=0, description='Compute Mean/Std', max=390, style=ProgressStyle(description_w…"
      ]
     },
     "metadata": {},
     "output_type": "display_data"
    }
   ],
   "source": [
    "state = compute_engine.run(train_loader)"
   ]
  },
  {
   "cell_type": "code",
   "execution_count": 11,
   "metadata": {},
   "outputs": [
    {
     "data": {
      "text/plain": [
       "{'mean': tensor([-17.7050, -10.3331, -12.4229], dtype=torch.float64),\n",
       " 'mean2': tensor([356.2868, 143.1767, 191.1010], dtype=torch.float64)}"
      ]
     },
     "execution_count": 11,
     "metadata": {},
     "output_type": "execute_result"
    }
   ],
   "source": [
    "state.metrics"
   ]
  },
  {
   "cell_type": "code",
   "execution_count": 12,
   "metadata": {},
   "outputs": [
    {
     "data": {
      "text/plain": [
       "tensor([42.8202, 36.4036, 36.7713], dtype=torch.float64)"
      ]
     },
     "execution_count": 12,
     "metadata": {},
     "output_type": "execute_result"
    }
   ],
   "source": [
    "state.metrics['mean2'] - state.metrics['mean'] ** 2"
   ]
  },
  {
   "cell_type": "code",
   "execution_count": 13,
   "metadata": {},
   "outputs": [],
   "source": [
    "state.metrics['std'] = torch.sqrt(state.metrics['mean2'] - state.metrics['mean'] ** 2)"
   ]
  },
  {
   "cell_type": "code",
   "execution_count": 14,
   "metadata": {},
   "outputs": [
    {
     "data": {
      "text/plain": [
       "tensor([6.5437, 6.0335, 6.0639], dtype=torch.float64)"
      ]
     },
     "execution_count": 14,
     "metadata": {},
     "output_type": "execute_result"
    }
   ],
   "source": [
    "state.metrics['std']"
   ]
  },
  {
   "cell_type": "code",
   "execution_count": null,
   "metadata": {},
   "outputs": [],
   "source": []
  },
  {
   "cell_type": "code",
   "execution_count": null,
   "metadata": {},
   "outputs": [],
   "source": []
  },
  {
   "cell_type": "code",
   "execution_count": null,
   "metadata": {},
   "outputs": [],
   "source": []
  },
  {
   "cell_type": "code",
   "execution_count": null,
   "metadata": {},
   "outputs": [],
   "source": []
  },
  {
   "cell_type": "markdown",
   "metadata": {},
   "source": [
    "Test"
   ]
  },
  {
   "cell_type": "code",
   "execution_count": 15,
   "metadata": {},
   "outputs": [
    {
     "data": {
      "text/plain": [
       "(96, 3, 64, 64)"
      ]
     },
     "execution_count": 15,
     "metadata": {},
     "output_type": "execute_result"
    }
   ],
   "source": [
    "import numpy as np\n",
    "\n",
    "n = 8\n",
    "b = 12\n",
    "c = 3\n",
    "w = h = 64\n",
    "\n",
    "true_data = np.arange(0, n * b * h * w * c, dtype='float64').reshape(n * b, c, h, w) - (n * b * c * w * h * 0.75)\n",
    "true_data.shape"
   ]
  },
  {
   "cell_type": "code",
   "execution_count": 16,
   "metadata": {},
   "outputs": [
    {
     "data": {
      "text/plain": [
       "(array([-299008.5, -294912.5, -290816.5]),\n",
       " array([2.05359015e+11, 2.02926315e+11, 2.00527169e+11]),\n",
       " array([340518.62237153, 340518.62237153, 340518.62237153]))"
      ]
     },
     "execution_count": 16,
     "metadata": {},
     "output_type": "execute_result"
    }
   ],
   "source": [
    "mean = true_data.transpose((0, 2, 3, 1)).reshape(-1, c).mean(axis=0)\n",
    "mean2 = np.power(true_data, 2.0).transpose((0, 2, 3, 1)).reshape(-1, c).mean(axis=0)\n",
    "std = true_data.transpose((0, 2, 3, 1)).reshape(-1, c).std(axis=0)\n",
    "mean, mean2, std"
   ]
  },
  {
   "cell_type": "code",
   "execution_count": null,
   "metadata": {},
   "outputs": [],
   "source": []
  },
  {
   "cell_type": "code",
   "execution_count": 17,
   "metadata": {},
   "outputs": [],
   "source": [
    "# train_loader = torch.arange(0, n * b * h * w * c, dtype=torch.float64).reshape(n, b, c, h, w) - (n * b * c * w * h * 0.75)"
   ]
  },
  {
   "cell_type": "code",
   "execution_count": 18,
   "metadata": {},
   "outputs": [],
   "source": [
    "train_loader = torch.from_numpy(true_data).reshape(n, b, c, h, w)"
   ]
  },
  {
   "cell_type": "code",
   "execution_count": 19,
   "metadata": {},
   "outputs": [
    {
     "data": {
      "text/plain": [
       "torch.Size([8, 12, 3, 64, 64])"
      ]
     },
     "execution_count": 19,
     "metadata": {},
     "output_type": "execute_result"
    }
   ],
   "source": [
    "train_loader.shape"
   ]
  },
  {
   "cell_type": "code",
   "execution_count": 20,
   "metadata": {},
   "outputs": [],
   "source": [
    "class _Average(Average):\n",
    "    \n",
    "     def __init__(self, output_transform=lambda x: x, device=None):\n",
    "        \n",
    "        super(_Average, self).__init__(output_transform=output_transform, device=device)\n",
    "        \n",
    "        def _mean_op(a, x):\n",
    "\n",
    "            if x.ndim > 1:\n",
    "                x = x.sum(dim=0)\n",
    "            \n",
    "            return a + x\n",
    "    \n",
    "        self._op = _mean_op\n"
   ]
  },
  {
   "cell_type": "code",
   "execution_count": 21,
   "metadata": {},
   "outputs": [],
   "source": [
    "def compute_mean_std(engine, batch):\n",
    "    b, c, *_ = batch.shape\n",
    "    data = batch.reshape(b, c, -1).to(dtype=torch.float64)\n",
    "    \n",
    "    mean = torch.mean(data, dim=-1)\n",
    "    mean2 = torch.mean(data ** 2, dim=-1)\n",
    "    \n",
    "    return {\n",
    "        \"mean\": mean,\n",
    "        \"mean^2\": mean2,\n",
    "    }\n",
    "\n",
    "\n",
    "compute_engine = Engine(compute_mean_std)\n",
    "\n",
    "ProgressBar(desc=\"Compute Mean/Std\").attach(compute_engine)\n",
    "\n",
    "img_mean = _Average(output_transform=lambda output: output['mean'])\n",
    "img_mean2 = _Average(output_transform=lambda output: output['mean^2'])\n",
    "\n",
    "img_mean.attach(compute_engine, 'mean')\n",
    "img_mean2.attach(compute_engine, 'mean2')"
   ]
  },
  {
   "cell_type": "code",
   "execution_count": 22,
   "metadata": {},
   "outputs": [
    {
     "data": {
      "text/plain": [
       "{'mean': tensor([[-882688.5000, -878592.5000, -874496.5000],\n",
       "         [-870400.5000, -866304.5000, -862208.5000],\n",
       "         [-858112.5000, -854016.5000, -849920.5000],\n",
       "         [-845824.5000, -841728.5000, -837632.5000],\n",
       "         [-833536.5000, -829440.5000, -825344.5000],\n",
       "         [-821248.5000, -817152.5000, -813056.5000],\n",
       "         [-808960.5000, -804864.5000, -800768.5000],\n",
       "         [-796672.5000, -792576.5000, -788480.5000],\n",
       "         [-784384.5000, -780288.5000, -776192.5000],\n",
       "         [-772096.5000, -768000.5000, -763904.5000],\n",
       "         [-759808.5000, -755712.5000, -751616.5000],\n",
       "         [-747520.5000, -743424.5000, -739328.5000]], dtype=torch.float64),\n",
       " 'mean^2': tensor([[7.7914e+11, 7.7193e+11, 7.6475e+11],\n",
       "         [7.5760e+11, 7.5048e+11, 7.4340e+11],\n",
       "         [7.3636e+11, 7.2935e+11, 7.2237e+11],\n",
       "         [7.1542e+11, 7.0851e+11, 7.0163e+11],\n",
       "         [6.9478e+11, 6.8797e+11, 6.8119e+11],\n",
       "         [6.7445e+11, 6.6774e+11, 6.6106e+11],\n",
       "         [6.5442e+11, 6.4781e+11, 6.4123e+11],\n",
       "         [6.3469e+11, 6.2818e+11, 6.2170e+11],\n",
       "         [6.1526e+11, 6.0885e+11, 6.0248e+11],\n",
       "         [5.9613e+11, 5.8983e+11, 5.8355e+11],\n",
       "         [5.7731e+11, 5.7110e+11, 5.6493e+11],\n",
       "         [5.5879e+11, 5.5268e+11, 5.4661e+11]], dtype=torch.float64)}"
      ]
     },
     "execution_count": 22,
     "metadata": {},
     "output_type": "execute_result"
    }
   ],
   "source": [
    "compute_mean_std(None, train_loader[0, ...])"
   ]
  },
  {
   "cell_type": "code",
   "execution_count": 23,
   "metadata": {},
   "outputs": [
    {
     "data": {
      "application/vnd.jupyter.widget-view+json": {
       "model_id": "",
       "version_major": 2,
       "version_minor": 0
      },
      "text/plain": [
       "HBox(children=(IntProgress(value=0, description='Compute Mean/Std', max=8, style=ProgressStyle(description_wid…"
      ]
     },
     "metadata": {},
     "output_type": "display_data"
    }
   ],
   "source": [
    "state = compute_engine.run(train_loader)"
   ]
  },
  {
   "cell_type": "code",
   "execution_count": 24,
   "metadata": {},
   "outputs": [
    {
     "data": {
      "text/plain": [
       "{'mean': tensor([-299008.5000, -294912.5000, -290816.5000], dtype=torch.float64),\n",
       " 'mean2': tensor([2.0536e+11, 2.0293e+11, 2.0053e+11], dtype=torch.float64)}"
      ]
     },
     "execution_count": 24,
     "metadata": {},
     "output_type": "execute_result"
    }
   ],
   "source": [
    "state.metrics"
   ]
  },
  {
   "cell_type": "code",
   "execution_count": null,
   "metadata": {},
   "outputs": [],
   "source": []
  },
  {
   "cell_type": "code",
   "execution_count": 25,
   "metadata": {},
   "outputs": [],
   "source": [
    "state.metrics['std'] = torch.sqrt(state.metrics['mean2'] - state.metrics['mean'] ** 2)"
   ]
  },
  {
   "cell_type": "code",
   "execution_count": 26,
   "metadata": {},
   "outputs": [
    {
     "data": {
      "text/plain": [
       "tensor([340518.6224, 340518.6224, 340518.6224], dtype=torch.float64)"
      ]
     },
     "execution_count": 26,
     "metadata": {},
     "output_type": "execute_result"
    }
   ],
   "source": [
    "state.metrics['std']"
   ]
  },
  {
   "cell_type": "code",
   "execution_count": null,
   "metadata": {},
   "outputs": [],
   "source": []
  },
  {
   "cell_type": "code",
   "execution_count": null,
   "metadata": {},
   "outputs": [],
   "source": []
  },
  {
   "cell_type": "code",
   "execution_count": 16,
   "metadata": {},
   "outputs": [
    {
     "name": "stdout",
     "output_type": "stream",
     "text": [
      "Epoch 1/5 : 100 - batch loss: 0.10874069479016124, lr: 0.01\n",
      "Epoch 1/5 : 200 - batch loss: 0.011986311293506247, lr: 0.01\n",
      "Epoch 1/5 : 300 - batch loss: 0.2531812456307698, lr: 0.01\n",
      "Epoch 1/5 : 400 - batch loss: 0.8978772717472793, lr: 0.01\n",
      "Epoch 1/5 : 500 - batch loss: 0.44192087329825613, lr: 0.01\n",
      "Epoch 1/5 : 600 - batch loss: 0.738644399068905, lr: 0.01\n",
      "Epoch 1/5 : 700 - batch loss: 0.6703575663223107, lr: 0.01\n",
      "Epoch 1/5 : 800 - batch loss: 0.1586780391733491, lr: 0.01\n",
      "Epoch 1/5 : 900 - batch loss: 0.1917330500497959, lr: 0.01\n",
      "Epoch 1/5 : 1000 - batch loss: 0.002969448472456837, lr: 0.01\n",
      "Epoch 2/5 : 1100 - batch loss: 0.26629197951445027, lr: 0.01\n",
      "Epoch 2/5 : 1200 - batch loss: 0.36764951402604584, lr: 0.01\n",
      "Epoch 2/5 : 1300 - batch loss: 0.45918256295209015, lr: 0.01\n",
      "Epoch 2/5 : 1400 - batch loss: 0.7598764350680366, lr: 0.01\n",
      "Epoch 2/5 : 1500 - batch loss: 0.3932501190109595, lr: 0.01\n",
      "Epoch 2/5 : 1600 - batch loss: 0.28595545931561117, lr: 0.01\n",
      "Epoch 2/5 : 1700 - batch loss: 0.4217900575859437, lr: 0.01\n",
      "Epoch 2/5 : 1800 - batch loss: 0.39947382685217947, lr: 0.01\n",
      "Epoch 2/5 : 1900 - batch loss: 0.21050187608434456, lr: 0.01\n",
      "Epoch 2/5 : 2000 - batch loss: 0.956736036348414, lr: 0.01\n",
      "Epoch 3/5 : 2100 - batch loss: 0.4699672254536501, lr: 0.01\n",
      "Epoch 3/5 : 2200 - batch loss: 0.7202451141030461, lr: 0.01\n",
      "Epoch 3/5 : 2300 - batch loss: 0.9523767932577424, lr: 0.01\n",
      "Epoch 3/5 : 2400 - batch loss: 0.0824845588958587, lr: 0.01\n",
      "Epoch 3/5 : 2500 - batch loss: 0.13209092466862093, lr: 0.01\n",
      "Epoch 3/5 : 2600 - batch loss: 0.5721523013963313, lr: 0.01\n",
      "Epoch 3/5 : 2700 - batch loss: 0.7178344816001644, lr: 0.01\n",
      "Epoch 3/5 : 2800 - batch loss: 0.8530899592907036, lr: 0.01\n",
      "Epoch 3/5 : 2900 - batch loss: 0.3774287955176009, lr: 0.01\n",
      "Epoch 3/5 : 3000 - batch loss: 0.6712389260652185, lr: 0.01\n",
      "Epoch 4/5 : 3100 - batch loss: 0.4111016425092099, lr: 0.01\n",
      "Epoch 4/5 : 3200 - batch loss: 0.4626332510505441, lr: 0.01\n",
      "Epoch 4/5 : 3300 - batch loss: 0.8465547086955825, lr: 0.01\n",
      "Epoch 4/5 : 3400 - batch loss: 0.8246503857231507, lr: 0.01\n",
      "Epoch 4/5 : 3500 - batch loss: 0.31789356999783047, lr: 0.01\n",
      "Epoch 4/5 : 3600 - batch loss: 0.29537944230483426, lr: 0.01\n",
      "Epoch 4/5 : 3700 - batch loss: 0.4482356705151649, lr: 0.01\n",
      "Epoch 4/5 : 3800 - batch loss: 0.06451885210212649, lr: 0.01\n",
      "Epoch 4/5 : 3900 - batch loss: 0.19822978162621452, lr: 0.01\n",
      "Epoch 4/5 : 4000 - batch loss: 0.11185621063137885, lr: 0.01\n",
      "Epoch 5/5 : 4100 - batch loss: 0.20107515208792082, lr: 0.01\n",
      "Epoch 5/5 : 4200 - batch loss: 0.5012222151761581, lr: 0.01\n",
      "Epoch 5/5 : 4300 - batch loss: 0.19725102134870576, lr: 0.01\n",
      "Epoch 5/5 : 4400 - batch loss: 0.6728937865893092, lr: 0.01\n",
      "Epoch 5/5 : 4500 - batch loss: 0.9345754277812051, lr: 0.01\n",
      "Epoch 5/5 : 4600 - batch loss: 0.6366397135112288, lr: 0.01\n",
      "Epoch 5/5 : 4700 - batch loss: 0.4458605736081457, lr: 0.01\n",
      "Epoch 5/5 : 4800 - batch loss: 0.9757854034536899, lr: 0.01\n",
      "Epoch 5/5 : 4900 - batch loss: 0.3293931788275103, lr: 0.01\n",
      "Epoch 5/5 : 5000 - batch loss: 0.6721766286931133, lr: 0.01\n"
     ]
    },
    {
     "data": {
      "text/plain": [
       "State:\n",
       "\toutput: 0.6721766286931133\n",
       "\tbatch: 999\n",
       "\tdataloader: <class 'list'>\n",
       "\tmax_epochs: 5\n",
       "\tmetrics: <class 'dict'>\n",
       "\titeration: 5000\n",
       "\tepoch: 5"
      ]
     },
     "execution_count": 16,
     "metadata": {},
     "output_type": "execute_result"
    }
   ],
   "source": [
    "import random\n",
    "\n",
    "from ignite.engine import Engine, Events\n",
    "\n",
    "\n",
    "def update_model(engine, batch):\n",
    "    return random.random()\n",
    "\n",
    "\n",
    "trainer = Engine(update_model)\n",
    "\n",
    "@trainer.on(Events.ITERATION_COMPLETED(every=100))\n",
    "def log_training(engine):\n",
    "    batch_loss = engine.state.output\n",
    "    lr = 0.01\n",
    "    e = engine.state.epoch\n",
    "    n = engine.state.max_epochs\n",
    "    i = engine.state.iteration\n",
    "    print(\"Epoch {}/{} : {} - batch loss: {}, lr: {}\".format(e, n, i, batch_loss, lr))\n",
    "\n",
    "    \n",
    "trainer.run(list(range(1000)), max_epochs=5)"
   ]
  },
  {
   "cell_type": "code",
   "execution_count": null,
   "metadata": {},
   "outputs": [],
   "source": []
  },
  {
   "cell_type": "code",
   "execution_count": null,
   "metadata": {},
   "outputs": [],
   "source": []
  },
  {
   "cell_type": "code",
   "execution_count": null,
   "metadata": {},
   "outputs": [],
   "source": []
  }
 ],
 "metadata": {
  "kernelspec": {
   "display_name": "Python 3",
   "language": "python",
   "name": "python3"
  },
  "language_info": {
   "codemirror_mode": {
    "name": "ipython",
    "version": 3
   },
   "file_extension": ".py",
   "mimetype": "text/x-python",
   "name": "python",
   "nbconvert_exporter": "python",
   "pygments_lexer": "ipython3",
   "version": "3.7.4"
  }
 },
 "nbformat": 4,
 "nbformat_minor": 4
}
